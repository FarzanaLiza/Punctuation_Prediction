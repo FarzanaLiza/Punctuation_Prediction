{
 "cells": [
  {
   "cell_type": "markdown",
   "id": "a0ab9394",
   "metadata": {},
   "source": [
    "### Required Packages"
   ]
  },
  {
   "cell_type": "code",
   "execution_count": 4,
   "id": "9aedddcc",
   "metadata": {},
   "outputs": [],
   "source": [
    "#!pip install simpletransformers\n",
    "#!pip install transformers\n",
    "#!pip install pandas"
   ]
  },
  {
   "cell_type": "markdown",
   "id": "b648a3d6",
   "metadata": {},
   "source": [
    "### Defining punctuation"
   ]
  },
  {
   "cell_type": "code",
   "execution_count": 1,
   "id": "dc0883b1",
   "metadata": {},
   "outputs": [],
   "source": [
    "special_labels = {',': 'I-COMMA',\n",
    "                  '.': 'I-DOT',\n",
    "                  '?': 'I-QMARK',\n",
    "                  '!': 'I-EMARK',\n",
    "                  ':': 'I-COLON',\n",
    "                  ';': 'I-SEMICOLON',\n",
    "                  '-': 'I-HYPHEN', # Label for the hyphen (new)\n",
    "                  \"'\": 'I-APOST'  } # Label for the apostrophe (new)\n",
    "normal_label = 'O'"
   ]
  },
  {
   "cell_type": "code",
   "execution_count": 2,
   "id": "e2421a69",
   "metadata": {},
   "outputs": [],
   "source": [
    "#Create labels\n",
    "\n",
    "labels_set = list(special_labels.values()) + [normal_label]"
   ]
  },
  {
   "cell_type": "code",
   "execution_count": 3,
   "id": "dd0c8171",
   "metadata": {},
   "outputs": [],
   "source": [
    "from simpletransformers.ner import NERModel, NERArgs\n",
    "import pandas as pd"
   ]
  },
  {
   "cell_type": "code",
   "execution_count": 4,
   "id": "2c17383e",
   "metadata": {},
   "outputs": [
    {
     "name": "stderr",
     "output_type": "stream",
     "text": [
      "Some weights of the model checkpoint at bert-base-uncased were not used when initializing BertForTokenClassification: ['cls.predictions.transform.LayerNorm.bias', 'cls.predictions.bias', 'cls.seq_relationship.bias', 'cls.predictions.transform.dense.bias', 'cls.predictions.transform.LayerNorm.weight', 'cls.predictions.transform.dense.weight', 'cls.seq_relationship.weight']\n",
      "- This IS expected if you are initializing BertForTokenClassification from the checkpoint of a model trained on another task or with another architecture (e.g. initializing a BertForSequenceClassification model from a BertForPreTraining model).\n",
      "- This IS NOT expected if you are initializing BertForTokenClassification from the checkpoint of a model that you expect to be exactly identical (initializing a BertForSequenceClassification model from a BertForSequenceClassification model).\n",
      "Some weights of BertForTokenClassification were not initialized from the model checkpoint at bert-base-uncased and are newly initialized: ['classifier.bias', 'classifier.weight']\n",
      "You should probably TRAIN this model on a down-stream task to be able to use it for predictions and inference.\n"
     ]
    }
   ],
   "source": [
    "#Model\n",
    "\n",
    "model_args = NERArgs()\n",
    "model_args.overwrite_output_dir = True\n",
    "model_args.save_steps = -1\n",
    "model = NERModel('bert',\n",
    "                 'bert-base-uncased',\n",
    "                 labels = labels_set,\n",
    "                 args=model_args,\n",
    "                 use_cuda=False)\n",
    "\n"
   ]
  },
  {
   "cell_type": "markdown",
   "id": "23eb6641",
   "metadata": {},
   "source": [
    "### Training bins 1 to 9"
   ]
  },
  {
   "cell_type": "code",
   "execution_count": 8,
   "id": "71e05a4f",
   "metadata": {
    "collapsed": true
   },
   "outputs": [],
   "source": [
    "#binz = 10\n",
    "#for i in range(binz-1):\n",
    "#    print(f'\\t\\t\\t\\t\\t\\tBin {i+1} out of {binz}')\n",
    "#    bin = pd.read_csv(f'./preprocessed_wikitext/train{i}-{binz}.csv').dropna()\n",
    "#    model.train_model(bin, output_dir=f'./bert_models/{i}')\n",
    "#    del bin"
   ]
  },
  {
   "cell_type": "code",
   "execution_count": 5,
   "id": "6ba13731",
   "metadata": {
    "scrolled": true
   },
   "outputs": [
    {
     "name": "stdout",
     "output_type": "stream",
     "text": [
      "\t\t\t\t\t\tBin 1 out of 10\n"
     ]
    },
    {
     "data": {
      "application/vnd.jupyter.widget-view+json": {
       "model_id": "2c8246bbb558468494b4d2095ff16b04",
       "version_major": 2,
       "version_minor": 0
      },
      "text/plain": [
       "  0%|          | 0/13 [00:00<?, ?it/s]"
      ]
     },
     "metadata": {},
     "output_type": "display_data"
    },
    {
     "data": {
      "application/vnd.jupyter.widget-view+json": {
       "model_id": "ebb09a7fdce047139fb74220b14ffcde",
       "version_major": 2,
       "version_minor": 0
      },
      "text/plain": [
       "Epoch:   0%|          | 0/1 [00:00<?, ?it/s]"
      ]
     },
     "metadata": {},
     "output_type": "display_data"
    },
    {
     "data": {
      "application/vnd.jupyter.widget-view+json": {
       "model_id": "ed4a5d471faa477ea5a3c0827f93f460",
       "version_major": 2,
       "version_minor": 0
      },
      "text/plain": [
       "Running Epoch 0 of 1:   0%|          | 0/867 [00:00<?, ?it/s]"
      ]
     },
     "metadata": {},
     "output_type": "display_data"
    },
    {
     "name": "stdout",
     "output_type": "stream",
     "text": [
      "\t\t\t\t\t\tBin 2 out of 10\n"
     ]
    },
    {
     "data": {
      "application/vnd.jupyter.widget-view+json": {
       "model_id": "4d43871c9f21491ba2e0443889677a30",
       "version_major": 2,
       "version_minor": 0
      },
      "text/plain": [
       "  0%|          | 0/13 [00:00<?, ?it/s]"
      ]
     },
     "metadata": {},
     "output_type": "display_data"
    },
    {
     "data": {
      "application/vnd.jupyter.widget-view+json": {
       "model_id": "f39e46eecb894232ad9e8c4d5b3af77f",
       "version_major": 2,
       "version_minor": 0
      },
      "text/plain": [
       "Epoch:   0%|          | 0/1 [00:00<?, ?it/s]"
      ]
     },
     "metadata": {},
     "output_type": "display_data"
    },
    {
     "data": {
      "application/vnd.jupyter.widget-view+json": {
       "model_id": "46d515597d87403d82eb1cbfadc0dc98",
       "version_major": 2,
       "version_minor": 0
      },
      "text/plain": [
       "Running Epoch 0 of 1:   0%|          | 0/864 [00:00<?, ?it/s]"
      ]
     },
     "metadata": {},
     "output_type": "display_data"
    },
    {
     "name": "stdout",
     "output_type": "stream",
     "text": [
      "\t\t\t\t\t\tBin 3 out of 10\n"
     ]
    },
    {
     "data": {
      "application/vnd.jupyter.widget-view+json": {
       "model_id": "dfc3e1e2d15c4d34bbb58dc409143242",
       "version_major": 2,
       "version_minor": 0
      },
      "text/plain": [
       "  0%|          | 0/13 [00:00<?, ?it/s]"
      ]
     },
     "metadata": {},
     "output_type": "display_data"
    },
    {
     "data": {
      "application/vnd.jupyter.widget-view+json": {
       "model_id": "8e62558d22844fa0bf998bff5dbbcc7c",
       "version_major": 2,
       "version_minor": 0
      },
      "text/plain": [
       "Epoch:   0%|          | 0/1 [00:00<?, ?it/s]"
      ]
     },
     "metadata": {},
     "output_type": "display_data"
    },
    {
     "data": {
      "application/vnd.jupyter.widget-view+json": {
       "model_id": "dfd2af555f054c28bab056b45ede2380",
       "version_major": 2,
       "version_minor": 0
      },
      "text/plain": [
       "Running Epoch 0 of 1:   0%|          | 0/866 [00:00<?, ?it/s]"
      ]
     },
     "metadata": {},
     "output_type": "display_data"
    },
    {
     "name": "stdout",
     "output_type": "stream",
     "text": [
      "\t\t\t\t\t\tBin 4 out of 10\n"
     ]
    },
    {
     "data": {
      "application/vnd.jupyter.widget-view+json": {
       "model_id": "b206cee33b714b2b8c52ecb4c88cbbd8",
       "version_major": 2,
       "version_minor": 0
      },
      "text/plain": [
       "  0%|          | 0/12 [00:00<?, ?it/s]"
      ]
     },
     "metadata": {},
     "output_type": "display_data"
    },
    {
     "data": {
      "application/vnd.jupyter.widget-view+json": {
       "model_id": "ccf85d9c1f4c49f1b0c6465fc46024e5",
       "version_major": 2,
       "version_minor": 0
      },
      "text/plain": [
       "Epoch:   0%|          | 0/1 [00:00<?, ?it/s]"
      ]
     },
     "metadata": {},
     "output_type": "display_data"
    },
    {
     "data": {
      "application/vnd.jupyter.widget-view+json": {
       "model_id": "1ea00b7a21034b9faaa587f5234cdb89",
       "version_major": 2,
       "version_minor": 0
      },
      "text/plain": [
       "Running Epoch 0 of 1:   0%|          | 0/869 [00:00<?, ?it/s]"
      ]
     },
     "metadata": {},
     "output_type": "display_data"
    },
    {
     "name": "stdout",
     "output_type": "stream",
     "text": [
      "\t\t\t\t\t\tBin 5 out of 10\n"
     ]
    },
    {
     "data": {
      "application/vnd.jupyter.widget-view+json": {
       "model_id": "2473aaf935584689bac9715bdd264221",
       "version_major": 2,
       "version_minor": 0
      },
      "text/plain": [
       "  0%|          | 0/13 [00:00<?, ?it/s]"
      ]
     },
     "metadata": {},
     "output_type": "display_data"
    },
    {
     "data": {
      "application/vnd.jupyter.widget-view+json": {
       "model_id": "a93a4e91759e4ad1a30ef9033053ad8c",
       "version_major": 2,
       "version_minor": 0
      },
      "text/plain": [
       "Epoch:   0%|          | 0/1 [00:00<?, ?it/s]"
      ]
     },
     "metadata": {},
     "output_type": "display_data"
    },
    {
     "data": {
      "application/vnd.jupyter.widget-view+json": {
       "model_id": "3b8640a53b8243ae9331e0ef9a18dd3d",
       "version_major": 2,
       "version_minor": 0
      },
      "text/plain": [
       "Running Epoch 0 of 1:   0%|          | 0/868 [00:00<?, ?it/s]"
      ]
     },
     "metadata": {},
     "output_type": "display_data"
    },
    {
     "name": "stdout",
     "output_type": "stream",
     "text": [
      "\t\t\t\t\t\tBin 6 out of 10\n"
     ]
    },
    {
     "data": {
      "application/vnd.jupyter.widget-view+json": {
       "model_id": "a95cf9feb4564ba2a01470872cb2e6ec",
       "version_major": 2,
       "version_minor": 0
      },
      "text/plain": [
       "  0%|          | 0/13 [00:00<?, ?it/s]"
      ]
     },
     "metadata": {},
     "output_type": "display_data"
    },
    {
     "data": {
      "application/vnd.jupyter.widget-view+json": {
       "model_id": "347d4552e124463390ff8196d30c3512",
       "version_major": 2,
       "version_minor": 0
      },
      "text/plain": [
       "Epoch:   0%|          | 0/1 [00:00<?, ?it/s]"
      ]
     },
     "metadata": {},
     "output_type": "display_data"
    },
    {
     "data": {
      "application/vnd.jupyter.widget-view+json": {
       "model_id": "f68212d5a6a5416ca42949018ce498b2",
       "version_major": 2,
       "version_minor": 0
      },
      "text/plain": [
       "Running Epoch 0 of 1:   0%|          | 0/865 [00:00<?, ?it/s]"
      ]
     },
     "metadata": {},
     "output_type": "display_data"
    },
    {
     "name": "stdout",
     "output_type": "stream",
     "text": [
      "\t\t\t\t\t\tBin 7 out of 10\n"
     ]
    },
    {
     "data": {
      "application/vnd.jupyter.widget-view+json": {
       "model_id": "442500468de7489bb342cc5ec6eb7501",
       "version_major": 2,
       "version_minor": 0
      },
      "text/plain": [
       "  0%|          | 0/13 [00:00<?, ?it/s]"
      ]
     },
     "metadata": {},
     "output_type": "display_data"
    },
    {
     "data": {
      "application/vnd.jupyter.widget-view+json": {
       "model_id": "f0f3cd0628314eecaa553435cf7a176f",
       "version_major": 2,
       "version_minor": 0
      },
      "text/plain": [
       "Epoch:   0%|          | 0/1 [00:00<?, ?it/s]"
      ]
     },
     "metadata": {},
     "output_type": "display_data"
    },
    {
     "data": {
      "application/vnd.jupyter.widget-view+json": {
       "model_id": "77a7ab85b8c949169b623c5158e03c31",
       "version_major": 2,
       "version_minor": 0
      },
      "text/plain": [
       "Running Epoch 0 of 1:   0%|          | 0/866 [00:00<?, ?it/s]"
      ]
     },
     "metadata": {},
     "output_type": "display_data"
    },
    {
     "name": "stdout",
     "output_type": "stream",
     "text": [
      "\t\t\t\t\t\tBin 8 out of 10\n"
     ]
    },
    {
     "data": {
      "application/vnd.jupyter.widget-view+json": {
       "model_id": "35af1d615cfc4af7a7e48e9a0ceecea6",
       "version_major": 2,
       "version_minor": 0
      },
      "text/plain": [
       "  0%|          | 0/13 [00:00<?, ?it/s]"
      ]
     },
     "metadata": {},
     "output_type": "display_data"
    },
    {
     "data": {
      "application/vnd.jupyter.widget-view+json": {
       "model_id": "b98b5ffde39440a784a2c1b81ff8b0cd",
       "version_major": 2,
       "version_minor": 0
      },
      "text/plain": [
       "Epoch:   0%|          | 0/1 [00:00<?, ?it/s]"
      ]
     },
     "metadata": {},
     "output_type": "display_data"
    },
    {
     "data": {
      "application/vnd.jupyter.widget-view+json": {
       "model_id": "c914674bb5a9402ba97b19d3048ce7bd",
       "version_major": 2,
       "version_minor": 0
      },
      "text/plain": [
       "Running Epoch 0 of 1:   0%|          | 0/865 [00:00<?, ?it/s]"
      ]
     },
     "metadata": {},
     "output_type": "display_data"
    },
    {
     "name": "stdout",
     "output_type": "stream",
     "text": [
      "\t\t\t\t\t\tBin 9 out of 10\n"
     ]
    },
    {
     "data": {
      "application/vnd.jupyter.widget-view+json": {
       "model_id": "f865325208844d009a8eccfdc71fc839",
       "version_major": 2,
       "version_minor": 0
      },
      "text/plain": [
       "  0%|          | 0/13 [00:00<?, ?it/s]"
      ]
     },
     "metadata": {},
     "output_type": "display_data"
    },
    {
     "data": {
      "application/vnd.jupyter.widget-view+json": {
       "model_id": "dde07c38f6374830a8fafce4238c5a8f",
       "version_major": 2,
       "version_minor": 0
      },
      "text/plain": [
       "Epoch:   0%|          | 0/1 [00:00<?, ?it/s]"
      ]
     },
     "metadata": {},
     "output_type": "display_data"
    },
    {
     "data": {
      "application/vnd.jupyter.widget-view+json": {
       "model_id": "eaa9f463416b49bba3b0e0bbc5d9fbfc",
       "version_major": 2,
       "version_minor": 0
      },
      "text/plain": [
       "Running Epoch 0 of 1:   0%|          | 0/866 [00:00<?, ?it/s]"
      ]
     },
     "metadata": {},
     "output_type": "display_data"
    }
   ],
   "source": [
    "# Fine tune with nine bins and validate with one bin\n",
    "# 'processed_tedtalk' derectory with csv files in the same folder\n",
    "\n",
    "binz = 10\n",
    "for i in range(binz-1):\n",
    "    print(f'\\t\\t\\t\\t\\t\\tBin {i+1} out of {binz}')\n",
    "    bin = pd.read_csv(f'./processed_tedtalk/train{i}-{binz}.csv').dropna()\n",
    "    model.train_model(bin, output_dir=f'./bert_models/{i}')\n",
    "    del bin"
   ]
  },
  {
   "cell_type": "code",
   "execution_count": 6,
   "id": "cd92aca0",
   "metadata": {},
   "outputs": [],
   "source": [
    "testdf = pd.read_csv('./processed_tedtalk/train9-10.csv').dropna()"
   ]
  },
  {
   "cell_type": "code",
   "execution_count": 7,
   "id": "a0b18b67",
   "metadata": {},
   "outputs": [
    {
     "data": {
      "application/vnd.jupyter.widget-view+json": {
       "model_id": "af254074a1dd4d83817bc4034e124c7e",
       "version_major": 2,
       "version_minor": 0
      },
      "text/plain": [
       "  0%|          | 0/13 [00:00<?, ?it/s]"
      ]
     },
     "metadata": {},
     "output_type": "display_data"
    },
    {
     "data": {
      "application/vnd.jupyter.widget-view+json": {
       "model_id": "b2579f0ecc5149f48e85ad9465479b33",
       "version_major": 2,
       "version_minor": 0
      },
      "text/plain": [
       "Running Evaluation:   0%|          | 0/868 [00:00<?, ?it/s]"
      ]
     },
     "metadata": {},
     "output_type": "display_data"
    },
    {
     "name": "stdout",
     "output_type": "stream",
     "text": [
      "True\n"
     ]
    }
   ],
   "source": [
    "result, model_outputs, predictions = model.eval_model(testdf)\n",
    "groups = [df for _, df in testdf.groupby('sentence_id')]\n",
    "print(len(predictions) == len(groups))"
   ]
  },
  {
   "cell_type": "code",
   "execution_count": 8,
   "id": "9e1a277b",
   "metadata": {},
   "outputs": [],
   "source": [
    "trues = []\n",
    "for i, sentence in enumerate(predictions):\n",
    "    trues.append(groups[i]['labels'].to_list()[:len(sentence)])"
   ]
  },
  {
   "cell_type": "code",
   "execution_count": 9,
   "id": "79570669",
   "metadata": {},
   "outputs": [
    {
     "name": "stdout",
     "output_type": "stream",
     "text": [
      "True\n"
     ]
    }
   ],
   "source": [
    "print(len(trues) == len(predictions))"
   ]
  },
  {
   "cell_type": "code",
   "execution_count": 10,
   "id": "6030f5cb",
   "metadata": {},
   "outputs": [],
   "source": [
    "import itertools\n",
    "ps = list(itertools.chain.from_iterable(predictions))\n",
    "ts = list(itertools.chain.from_iterable(trues))"
   ]
  },
  {
   "cell_type": "markdown",
   "id": "e8582fb4",
   "metadata": {},
   "source": [
    "### Evaluation"
   ]
  },
  {
   "cell_type": "code",
   "execution_count": 18,
   "id": "1d09d76a",
   "metadata": {},
   "outputs": [],
   "source": [
    "#!pip install matplotlib\n",
    "#!pip install seaborn"
   ]
  },
  {
   "cell_type": "code",
   "execution_count": 11,
   "id": "e36215dd",
   "metadata": {},
   "outputs": [
    {
     "data": {
      "text/plain": [
       "array([[ 38028,    735,     42,      1,    193,     10,      0,     10,\n",
       "         11659],\n",
       "       [   380,  38603,    334,      8,    340,      0,      0,      1,\n",
       "          1252],\n",
       "       [    38,    556,   2712,      1,    114,      0,      0,      0,\n",
       "           156],\n",
       "       [    11,    214,      5,     24,     28,      0,      0,      0,\n",
       "            40],\n",
       "       [   424,    265,     18,      0,   1573,      2,      0,      0,\n",
       "           499],\n",
       "       [   473,     39,      1,      0,      6,     10,      0,      0,\n",
       "            54],\n",
       "       [     0,      0,      0,      0,      0,      0,      9,      0,\n",
       "            19],\n",
       "       [     7,     10,      1,      0,      1,      0,      0,    103,\n",
       "            59],\n",
       "       [  5753,    669,     57,      2,    307,      0,      3,     21,\n",
       "        667996]])"
      ]
     },
     "execution_count": 11,
     "metadata": {},
     "output_type": "execute_result"
    }
   ],
   "source": [
    "from sklearn.metrics import confusion_matrix\n",
    "import matplotlib.pyplot as plt\n",
    "import seaborn as sns\n",
    "\n",
    "cm = confusion_matrix(y_true=ts,y_pred=ps, labels=labels_set)\n",
    "cm"
   ]
  },
  {
   "cell_type": "markdown",
   "id": "48a4f8f9",
   "metadata": {},
   "source": [
    "### Normalizing the Confusion Matrix"
   ]
  },
  {
   "cell_type": "code",
   "execution_count": 12,
   "id": "ff414a2d",
   "metadata": {},
   "outputs": [
    {
     "data": {
      "text/plain": [
       "array([[7.50384782e-01, 1.45033348e-02, 8.28761987e-04, 1.97324283e-05,\n",
       "        3.80835866e-03, 1.97324283e-04, 0.00000000e+00, 1.97324283e-04,\n",
       "        2.30060381e-01],\n",
       "       [9.28686642e-03, 9.43423432e-01, 8.16266680e-03, 1.95512977e-04,\n",
       "        8.30930153e-03, 0.00000000e+00, 0.00000000e+00, 2.44391221e-05,\n",
       "        3.05977809e-02],\n",
       "       [1.06234275e-02, 1.55437517e-01, 7.58177244e-01, 2.79563880e-04,\n",
       "        3.18702824e-02, 0.00000000e+00, 0.00000000e+00, 0.00000000e+00,\n",
       "        4.36119653e-02],\n",
       "       [3.41614907e-02, 6.64596273e-01, 1.55279503e-02, 7.45341615e-02,\n",
       "        8.69565217e-02, 0.00000000e+00, 0.00000000e+00, 0.00000000e+00,\n",
       "        1.24223602e-01],\n",
       "       [1.52463143e-01, 9.52894642e-02, 6.47249191e-03, 0.00000000e+00,\n",
       "        5.65623876e-01, 7.19165768e-04, 0.00000000e+00, 0.00000000e+00,\n",
       "        1.79431859e-01],\n",
       "       [8.11320755e-01, 6.68953688e-02, 1.71526587e-03, 0.00000000e+00,\n",
       "        1.02915952e-02, 1.71526587e-02, 0.00000000e+00, 0.00000000e+00,\n",
       "        9.26243568e-02],\n",
       "       [0.00000000e+00, 0.00000000e+00, 0.00000000e+00, 0.00000000e+00,\n",
       "        0.00000000e+00, 0.00000000e+00, 3.21428571e-01, 0.00000000e+00,\n",
       "        6.78571429e-01],\n",
       "       [3.86740331e-02, 5.52486188e-02, 5.52486188e-03, 0.00000000e+00,\n",
       "        5.52486188e-03, 0.00000000e+00, 0.00000000e+00, 5.69060773e-01,\n",
       "        3.25966851e-01],\n",
       "       [8.52538796e-03, 9.91393107e-04, 8.44684710e-05, 2.96380600e-06,\n",
       "        4.54944221e-04, 0.00000000e+00, 4.44570900e-06, 3.11199630e-05,\n",
       "        9.89905277e-01]])"
      ]
     },
     "execution_count": 12,
     "metadata": {},
     "output_type": "execute_result"
    }
   ],
   "source": [
    "import numpy as np\n",
    "summ = np.sum(cm, axis=1)\n",
    "summ = np.expand_dims(summ, axis=1)\n",
    "nor_cm = (cm/summ)\n",
    "nor_cm"
   ]
  },
  {
   "cell_type": "code",
   "execution_count": 13,
   "id": "4e5b753f",
   "metadata": {},
   "outputs": [
    {
     "data": {
      "text/plain": [
       "array([1., 1., 1., 1., 1., 1., 1., 1., 1.])"
      ]
     },
     "execution_count": 13,
     "metadata": {},
     "output_type": "execute_result"
    }
   ],
   "source": [
    "nor_cm.sum(axis=1)"
   ]
  },
  {
   "cell_type": "code",
   "execution_count": 14,
   "id": "a03caf0d",
   "metadata": {},
   "outputs": [
    {
     "data": {
      "text/plain": [
       "Text(158.22222222222223, 0.5, 'True Label')"
      ]
     },
     "execution_count": 14,
     "metadata": {},
     "output_type": "execute_result"
    },
    {
     "data": {
      "image/png": "[encoded data removed]",
      "text/plain": [
       "<Figure size 1500x1500 with 2 Axes>"
      ]
     },
     "metadata": {},
     "output_type": "display_data"
    }
   ],
   "source": [
    "plot_labels = labels_set\n",
    "fig, ax = plt.subplots(figsize=(15, 15))\n",
    "sns.heatmap(nor_cm,\n",
    "            ax=ax, \n",
    "            annot=True,\n",
    "            cmap='Blues',\n",
    "            xticklabels=plot_labels,\n",
    "            yticklabels=plot_labels)\n",
    "plt.yticks(rotation=0,size=12)\n",
    "plt.xticks(size=12)\n",
    "ax.set_xlabel('Predicted Label',size=14)\n",
    "ax.set_ylabel('True Label',size=14)"
   ]
  },
  {
   "cell_type": "markdown",
   "id": "31a0bd58",
   "metadata": {},
   "source": [
    ">Testing on an example data"
   ]
  },
  {
   "cell_type": "code",
   "execution_count": 45,
   "id": "5bec9d54",
   "metadata": {},
   "outputs": [],
   "source": [
    "MY_TEST_TEXTS = [\"In September 2010 , a teaser website was revealed by Sega , hinting at a new Valkyria Chronicles game . In its September issue , Famitsu listed that Senjō no Valkyria 3 would be arriving on the PlayStation Portable . Its first public appearance was at the 2010 Tokyo Game Show ( TGS ) , where a demo was made available for journalists and attendees . During the publicity , story details were kept scant so as not to spoil too much for potential players , along with some of its content still being in flux at the time of its reveal . To promote the game and detail the story leading into the game 's events , an episodic Flash visual novel written by Fujii began release in January 2011 . The game was released January 27 , 2011 .\",\n",
    "                 \"Partly due to these events , and partly due to the major losses in manpower Gallia suffers towards the end of the war with the Empire , the Nameless are offered a formal position as a squad in the Gallian Army rather than serve as an anonymous shadow force . This is short @-@ lived , however , as following Maximilian 's defeat , Dahau and Calamity Raven move to activate an ancient <unk> super weapon within the Empire , kept secret by their benefactor . Without the support of Maximilian or the chance to prove themselves in the war with Gallia , it is Dahau 's last trump card in creating a new Darcsen nation . As an armed Gallian force invading the Empire just following the two nations ' cease @-@ fire would certainly wreck their newfound peace , Kurt decides to once again make his squad the Nameless , asking Crowe to list himself and all under his command as killed @-@ in @-@ action .\", \n",
    "                ]"
   ]
  },
  {
   "cell_type": "code",
   "execution_count": 46,
   "id": "499e0bbc",
   "metadata": {},
   "outputs": [],
   "source": [
    "removed_punctuations = []\n",
    "for txt in MY_TEST_TEXTS:\n",
    "    txt2 = txt\n",
    "    for pun in special_labels.keys():\n",
    "        txt2 = txt2.replace(pun, \"\")\n",
    "    removed_punctuations.append(txt2)"
   ]
  },
  {
   "cell_type": "code",
   "execution_count": 47,
   "id": "379a5b7c",
   "metadata": {},
   "outputs": [
    {
     "data": {
      "text/plain": [
       "['In September 2010  a teaser website was revealed by Sega  hinting at a new Valkyria Chronicles game  In its September issue  Famitsu listed that Senjō no Valkyria 3 would be arriving on the PlayStation Portable  Its first public appearance was at the 2010 Tokyo Game Show ( TGS )  where a demo was made available for journalists and attendees  During the publicity  story details were kept scant so as not to spoil too much for potential players  along with some of its content still being in flux at the time of its reveal  To promote the game and detail the story leading into the game s events  an episodic Flash visual novel written by Fujii began release in January 2011  The game was released January 27  2011 ',\n",
       " 'Partly due to these events  and partly due to the major losses in manpower Gallia suffers towards the end of the war with the Empire  the Nameless are offered a formal position as a squad in the Gallian Army rather than serve as an anonymous shadow force  This is short @@ lived  however  as following Maximilian s defeat  Dahau and Calamity Raven move to activate an ancient <unk> super weapon within the Empire  kept secret by their benefactor  Without the support of Maximilian or the chance to prove themselves in the war with Gallia  it is Dahau s last trump card in creating a new Darcsen nation  As an armed Gallian force invading the Empire just following the two nations  cease @@ fire would certainly wreck their newfound peace  Kurt decides to once again make his squad the Nameless  asking Crowe to list himself and all under his command as killed @@ in @@ action ']"
      ]
     },
     "execution_count": 47,
     "metadata": {},
     "output_type": "execute_result"
    }
   ],
   "source": [
    "removed_punctuations"
   ]
  },
  {
   "cell_type": "code",
   "execution_count": 48,
   "id": "01054ecf",
   "metadata": {},
   "outputs": [
    {
     "data": {
      "application/vnd.jupyter.widget-view+json": {
       "model_id": "2810a5cf81c84ad487f3028b5fe38864",
       "version_major": 2,
       "version_minor": 0
      },
      "text/plain": [
       "  0%|          | 0/1 [00:00<?, ?it/s]"
      ]
     },
     "metadata": {},
     "output_type": "display_data"
    },
    {
     "data": {
      "application/vnd.jupyter.widget-view+json": {
       "model_id": "67abb15f9a0f4c72939c8ae860976ad5",
       "version_major": 2,
       "version_minor": 0
      },
      "text/plain": [
       "Running Prediction:   0%|          | 0/1 [00:00<?, ?it/s]"
      ]
     },
     "metadata": {},
     "output_type": "display_data"
    }
   ],
   "source": [
    "result, _ = model.predict(removed_punctuations)"
   ]
  },
  {
   "cell_type": "code",
   "execution_count": 49,
   "id": "d8699c3c",
   "metadata": {},
   "outputs": [],
   "source": [
    "inv_special_labels = {v: k for k, v in special_labels.items()}\n",
    "predicted_texts = []\n",
    "for res in result:\n",
    "    sentence = []\n",
    "    for diction in res:\n",
    "        sentence.append(list(diction.keys())[0])\n",
    "        if list(diction.values())[0] in list(inv_special_labels.keys()):\n",
    "            sentence.append(inv_special_labels[list(diction.values())[0]])\n",
    "    predicted_texts.append(\" \".join(sentence))"
   ]
  },
  {
   "cell_type": "code",
   "execution_count": 50,
   "id": "0f73ad24",
   "metadata": {},
   "outputs": [
    {
     "data": {
      "text/plain": [
       "['In September 2010 , a teaser website was revealed by Sega , hinting at a new Valkyria Chronicles game . In its September issue , Famitsu listed that Senjō , no Valkyria 3 would be arriving on the PlayStation Portable . Its first public appearance was at the 2010 Tokyo Game Show , ( TGS ) where a demo was made available for journalists and attendees . During the publicity story , details were kept scant so as not to spoil too much for potential players , along with some of its content still being in flux at the time of its reveal . To promote the game and detail the story leading into the game s events , an episodic Flash visual novel written by Fujii began release in January 2011 . The game',\n",
       " 'Partly due to these events , and partly due to the major losses in manpower , Gallia suffers towards the end of the war with the Empire , the Nameless are offered a formal position as a squad in the Gallian Army rather than serve as an anonymous shadow force . This is short . @@ lived , however , as following Maximilian s defeat , Dahau and Calamity Raven move to activate an ancient <unk> super weapon within the Empire , kept secret by their benefactor . Without the support of Maximilian , or the chance to prove themselves in the war with Gallia , it is Dahau s last trump card in creating a new Darcsen nation . As an armed Gallian force invading the Empire just following the two nations cease @@']"
      ]
     },
     "execution_count": 50,
     "metadata": {},
     "output_type": "execute_result"
    }
   ],
   "source": [
    "predicted_texts"
   ]
  },
  {
   "cell_type": "code",
   "execution_count": null,
   "id": "b02ee853",
   "metadata": {
    "collapsed": true
   },
   "outputs": [],
   "source": []
  }
 ],
 "metadata": {
  "kernelspec": {
   "display_name": "Python 3 (ipykernel)",
   "language": "python",
   "name": "python3"
  },
  "language_info": {
   "codemirror_mode": {
    "name": "ipython",
    "version": 3
   },
   "file_extension": ".py",
   "mimetype": "text/x-python",
   "name": "python",
   "nbconvert_exporter": "python",
   "pygments_lexer": "ipython3",
   "version": "3.9.16"
  }
 },
 "nbformat": 4,
 "nbformat_minor": 5
}
